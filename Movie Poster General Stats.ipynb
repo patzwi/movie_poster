{
 "cells": [
  {
   "cell_type": "markdown",
   "metadata": {},
   "source": [
    "## Patrick Zwierzynski ##\n",
    "#### Movie Poster General Stats ####\n",
    "------\n",
    "This jupyter notebook contains some initial, general introductory descriptions and statistics about the movie poster data set."
   ]
  },
  {
   "cell_type": "code",
   "execution_count": 49,
   "metadata": {},
   "outputs": [],
   "source": [
    "# Import Libraries\n",
    "import numpy as np\n",
    "import pandas as pd\n",
    "import matplotlib.pyplot as plt\n",
    "import re as regex"
   ]
  },
  {
   "cell_type": "code",
   "execution_count": 160,
   "metadata": {},
   "outputs": [
    {
     "name": "stdout",
     "output_type": "stream",
     "text": [
      "Index(['imdbId', 'Imdb Link', 'Title', 'IMDB Score', 'Genre', 'Poster'], dtype='object')\n"
     ]
    }
   ],
   "source": [
    "# Import the raw csv data\n",
    "movie_importDF_nd = pd.read_csv('Data\\MovieGenre.csv').dropna()\n",
    "col_names = movie_importDF_nd.keys()\n",
    "N, D = movie_importDF_nd.shape\n",
    "\n",
    "# Show the column titles\n",
    "print(col_names)"
   ]
  },
  {
   "cell_type": "code",
   "execution_count": 161,
   "metadata": {},
   "outputs": [
    {
     "data": {
      "text/html": [
       "<div>\n",
       "<style scoped>\n",
       "    .dataframe tbody tr th:only-of-type {\n",
       "        vertical-align: middle;\n",
       "    }\n",
       "\n",
       "    .dataframe tbody tr th {\n",
       "        vertical-align: top;\n",
       "    }\n",
       "\n",
       "    .dataframe thead th {\n",
       "        text-align: right;\n",
       "    }\n",
       "</style>\n",
       "<table border=\"1\" class=\"dataframe\">\n",
       "  <thead>\n",
       "    <tr style=\"text-align: right;\">\n",
       "      <th></th>\n",
       "      <th>imdbId</th>\n",
       "      <th>Title</th>\n",
       "      <th>Genre</th>\n",
       "    </tr>\n",
       "  </thead>\n",
       "  <tbody>\n",
       "    <tr>\n",
       "      <td>0</td>\n",
       "      <td>114709</td>\n",
       "      <td>Toy Story (1995)</td>\n",
       "      <td>Animation|Adventure|Comedy</td>\n",
       "    </tr>\n",
       "    <tr>\n",
       "      <td>1</td>\n",
       "      <td>113497</td>\n",
       "      <td>Jumanji (1995)</td>\n",
       "      <td>Action|Adventure|Family</td>\n",
       "    </tr>\n",
       "    <tr>\n",
       "      <td>2</td>\n",
       "      <td>113228</td>\n",
       "      <td>Grumpier Old Men (1995)</td>\n",
       "      <td>Comedy|Romance</td>\n",
       "    </tr>\n",
       "    <tr>\n",
       "      <td>3</td>\n",
       "      <td>114885</td>\n",
       "      <td>Waiting to Exhale (1995)</td>\n",
       "      <td>Comedy|Drama|Romance</td>\n",
       "    </tr>\n",
       "    <tr>\n",
       "      <td>4</td>\n",
       "      <td>113041</td>\n",
       "      <td>Father of the Bride Part II (1995)</td>\n",
       "      <td>Comedy|Family|Romance</td>\n",
       "    </tr>\n",
       "    <tr>\n",
       "      <td>5</td>\n",
       "      <td>113277</td>\n",
       "      <td>Heat (1995)</td>\n",
       "      <td>Action|Crime|Drama</td>\n",
       "    </tr>\n",
       "    <tr>\n",
       "      <td>6</td>\n",
       "      <td>114319</td>\n",
       "      <td>Sabrina (1995)</td>\n",
       "      <td>Comedy|Drama</td>\n",
       "    </tr>\n",
       "    <tr>\n",
       "      <td>7</td>\n",
       "      <td>112302</td>\n",
       "      <td>Tom and Huck (1995)</td>\n",
       "      <td>Adventure|Comedy|Drama</td>\n",
       "    </tr>\n",
       "    <tr>\n",
       "      <td>8</td>\n",
       "      <td>114576</td>\n",
       "      <td>Sudden Death (1995)</td>\n",
       "      <td>Action|Crime|Thriller</td>\n",
       "    </tr>\n",
       "    <tr>\n",
       "      <td>9</td>\n",
       "      <td>113189</td>\n",
       "      <td>GoldenEye (1995)</td>\n",
       "      <td>Action|Adventure|Thriller</td>\n",
       "    </tr>\n",
       "  </tbody>\n",
       "</table>\n",
       "</div>"
      ],
      "text/plain": [
       "   imdbId                               Title                       Genre\n",
       "0  114709                    Toy Story (1995)  Animation|Adventure|Comedy\n",
       "1  113497                      Jumanji (1995)     Action|Adventure|Family\n",
       "2  113228             Grumpier Old Men (1995)              Comedy|Romance\n",
       "3  114885            Waiting to Exhale (1995)        Comedy|Drama|Romance\n",
       "4  113041  Father of the Bride Part II (1995)       Comedy|Family|Romance\n",
       "5  113277                         Heat (1995)          Action|Crime|Drama\n",
       "6  114319                      Sabrina (1995)                Comedy|Drama\n",
       "7  112302                 Tom and Huck (1995)      Adventure|Comedy|Drama\n",
       "8  114576                 Sudden Death (1995)       Action|Crime|Thriller\n",
       "9  113189                    GoldenEye (1995)   Action|Adventure|Thriller"
      ]
     },
     "execution_count": 161,
     "metadata": {},
     "output_type": "execute_result"
    }
   ],
   "source": [
    "# Show ID no., Title, and Genres of first 10 entries in data set\n",
    "movie_importDF_nd[:10][[\"imdbId\", \"Title\", \"Genre\"]]"
   ]
  },
  {
   "cell_type": "code",
   "execution_count": 172,
   "metadata": {},
   "outputs": [
    {
     "name": "stdout",
     "output_type": "stream",
     "text": [
      "28 Different Genres:\n",
      " ['Mystery' 'Romance' 'Drama' 'Musical' 'Sport' 'Family' 'Biography' 'War'\n",
      " 'Horror' 'Talk-Show' 'Adventure' 'Music' 'Thriller' 'Documentary'\n",
      " 'Animation' 'Reality-TV' 'Short' 'Action' 'News' 'History' 'Fantasy'\n",
      " 'Comedy' 'Film-Noir' 'Game-Show' 'Crime' 'Adult' 'Sci-Fi' 'Western']\n"
     ]
    }
   ],
   "source": [
    "# Extract raw genre data\n",
    "genre_raw_n = movie_importDF_nd['Genre'].to_numpy()\n",
    "genre_set = set()\n",
    "\n",
    "for genre_str in genre_raw_n:\n",
    "    genre_set = genre_set.union(regex.split(\"\\|\", genre_str))\n",
    "        \n",
    "genre_set = np.array(list(genre_set))\n",
    "\n",
    "# Display all unique genres in data set\n",
    "print(\"%d Different Genres:\\n\" % genre_set.size, genre_set)"
   ]
  },
  {
   "cell_type": "code",
   "execution_count": null,
   "metadata": {},
   "outputs": [],
   "source": []
  }
 ],
 "metadata": {
  "kernelspec": {
   "display_name": "Python 3",
   "language": "python",
   "name": "python3"
  },
  "language_info": {
   "codemirror_mode": {
    "name": "ipython",
    "version": 3
   },
   "file_extension": ".py",
   "mimetype": "text/x-python",
   "name": "python",
   "nbconvert_exporter": "python",
   "pygments_lexer": "ipython3",
   "version": "3.7.4"
  }
 },
 "nbformat": 4,
 "nbformat_minor": 2
}
